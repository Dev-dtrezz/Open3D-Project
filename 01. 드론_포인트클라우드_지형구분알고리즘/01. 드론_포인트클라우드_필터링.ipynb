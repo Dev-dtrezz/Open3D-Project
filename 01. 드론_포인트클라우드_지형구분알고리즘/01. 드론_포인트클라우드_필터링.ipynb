{
 "cells": [
  {
   "cell_type": "code",
   "execution_count": 97,
   "id": "dc88563b-6c00-45e2-b0bd-7dc294e075fa",
   "metadata": {},
   "outputs": [],
   "source": [
    "import open3d as o3d\n",
    "import numpy as np\n",
    "import matplotlib.pyplot as plt\n",
    "import os\n",
    "from ipywidgets  import interact"
   ]
  },
  {
   "cell_type": "markdown",
   "id": "bb9778ec-da5d-4b4d-bf21-1f7d864b5420",
   "metadata": {},
   "source": [
    "# 1. 포인트클라우드 불러오기"
   ]
  },
  {
   "cell_type": "code",
   "execution_count": 56,
   "id": "d70d3313-4ffb-4287-ab41-5adf03dfdac4",
   "metadata": {},
   "outputs": [],
   "source": [
    "folder_path = './용인금어'"
   ]
  },
  {
   "cell_type": "code",
   "execution_count": 59,
   "id": "ed1cc206-6ee5-4026-846a-02f807d5bbea",
   "metadata": {},
   "outputs": [
    {
     "data": {
      "text/plain": [
       "['용인금어지구_group1_densified_point_cloud_part_1.xyz',\n",
       " '용인금어지구_group1_densified_point_cloud_part_2.xyz',\n",
       " '용인금어지구_group1_densified_point_cloud_part_3.xyz',\n",
       " '용인금어지구_group1_densified_point_cloud_part_4.xyz']"
      ]
     },
     "execution_count": 59,
     "metadata": {},
     "output_type": "execute_result"
    }
   ],
   "source": [
    "file_list = os.listdir(folder_path)\n",
    "file_list"
   ]
  },
  {
   "cell_type": "code",
   "execution_count": 60,
   "id": "c2eae4ce-5087-404c-b6a0-8da43da46687",
   "metadata": {},
   "outputs": [
    {
     "data": {
      "text/plain": [
       "['./용인금어\\\\용인금어지구_group1_densified_point_cloud_part_1.xyz',\n",
       " './용인금어\\\\용인금어지구_group1_densified_point_cloud_part_2.xyz',\n",
       " './용인금어\\\\용인금어지구_group1_densified_point_cloud_part_3.xyz',\n",
       " './용인금어\\\\용인금어지구_group1_densified_point_cloud_part_4.xyz']"
      ]
     },
     "execution_count": 60,
     "metadata": {},
     "output_type": "execute_result"
    }
   ],
   "source": [
    "file_paths = [os.path.join(folder_path, i)for i in file_list]\n",
    "file_paths"
   ]
  },
  {
   "cell_type": "code",
   "execution_count": 61,
   "id": "cb0889d5-598f-49ef-9a07-10723e86f1e7",
   "metadata": {},
   "outputs": [],
   "source": [
    "pcd_list = [o3d.io.read_point_cloud(i) for i in file_paths]"
   ]
  },
  {
   "cell_type": "code",
   "execution_count": 62,
   "id": "992f2155-d7b5-4cad-99b0-d97c0998eec1",
   "metadata": {},
   "outputs": [],
   "source": [
    "# 첫 번째 포인트클라우드 객체로 초기화\n",
    "merged_pcd = pcd_list[0]\n",
    "\n",
    "# 나머지 포인트클라우드 객체를 첫 번째 객체에 병합\n",
    "for pcd in pcd_list[1:]:\n",
    "    merged_pcd += pcd\n",
    "pcd = merged_pcd"
   ]
  },
  {
   "cell_type": "code",
   "execution_count": 35,
   "id": "5464cf40-5bd4-4fdc-ba1e-073998b941f8",
   "metadata": {},
   "outputs": [],
   "source": [
    "# pcd = o3d.io.read_point_cloud(\"./용인금어지구_group1_densified_point_cloud_part_1.xyz\")\n",
    "# # o3d.io.write_point_cloud(\"output.xyz\", pcd)"
   ]
  },
  {
   "cell_type": "code",
   "execution_count": 63,
   "id": "6e72f948-cc7a-4ef5-8a43-80fec426d494",
   "metadata": {},
   "outputs": [
    {
     "name": "stdout",
     "output_type": "stream",
     "text": [
      "std::vector<Eigen::Vector3d> with 38601059 elements.\n",
      "Use numpy.asarray() to access data.\n"
     ]
    }
   ],
   "source": [
    "print(pcd.points)"
   ]
  },
  {
   "cell_type": "markdown",
   "id": "005f423d-30ff-416a-a9a7-2497c0c3bde2",
   "metadata": {},
   "source": [
    "# 2. 포인트 클라우드 가공"
   ]
  },
  {
   "cell_type": "code",
   "execution_count": 64,
   "id": "2fb9d02c-6023-45ad-a732-3244b9950f3f",
   "metadata": {},
   "outputs": [],
   "source": [
    "# Voxel 다운샘플링\n",
    "downsampled_pcd = pcd.voxel_down_sample(voxel_size=1)"
   ]
  },
  {
   "cell_type": "code",
   "execution_count": 65,
   "id": "cf48dfa0-f332-4798-84d1-89588c9d2297",
   "metadata": {
    "scrolled": true
   },
   "outputs": [
    {
     "name": "stdout",
     "output_type": "stream",
     "text": [
      "std::vector<Eigen::Vector3d> with 532511 elements.\n",
      "Use numpy.asarray() to access data.\n"
     ]
    }
   ],
   "source": [
    "print(downsampled_pcd.points)"
   ]
  },
  {
   "cell_type": "markdown",
   "id": "1ead75af-3a9c-420f-adfb-70f02f689f53",
   "metadata": {},
   "source": [
    "# 3. 필터링 알고리즘 함수(지형면 구분)"
   ]
  },
  {
   "cell_type": "code",
   "execution_count": 66,
   "id": "06a47104-6024-432e-8c70-4f7005693e28",
   "metadata": {},
   "outputs": [],
   "source": [
    "def filtering_points(pcd, grid, range_int):\n",
    "    points = np.array(pcd.points)\n",
    "    \n",
    "    # 그리드 나누기\n",
    "    grid_size = grid\n",
    "    x_indices = np.floor(points[:,0]/grid_size).astype(int)\n",
    "    y_indices = np.floor(points[:,1]/grid_size).astype(int)\n",
    "    \n",
    "    included_indices = []\n",
    "    \n",
    "    for x in np.unique(x_indices):\n",
    "        for y in np.unique(y_indices):\n",
    "            cell_indices = np.where((x_indices == x) & (y_indices == y))[0]\n",
    "            if len(cell_indices) == 0:\n",
    "                continue\n",
    "            cell_points = points[cell_indices]\n",
    "            z_min = np.min(cell_points[:, 2])\n",
    "            z_max = np.max(cell_points[:, 2])\n",
    "        \n",
    "            range_z_min = z_min + range_int\n",
    "        \n",
    "            included_cell_indices = cell_indices[(cell_points[:, 2] <= range_z_min)]\n",
    "        \n",
    "            included_indices.extend(included_cell_indices)    \n",
    "\n",
    "    # 제외된 포인트를 제외한 나머지 포인트 필터링\n",
    "    remaining_pcd = pcd.select_by_index(included_indices)\n",
    "    return remaining_pcd"
   ]
  },
  {
   "cell_type": "code",
   "execution_count": 92,
   "id": "295fcce5-aff1-4031-ae1a-2ba7c4fe94d6",
   "metadata": {},
   "outputs": [
    {
     "data": {
      "text/plain": [
       "std::vector<Eigen::Vector3d> with 168 elements.\n",
       "Use numpy.asarray() to access data."
      ]
     },
     "execution_count": 92,
     "metadata": {},
     "output_type": "execute_result"
    }
   ],
   "source": [
    "new_pcd = filtering_points(downsampled_pcd,30,2)\n",
    "new_pcd.points"
   ]
  },
  {
   "cell_type": "code",
   "execution_count": 109,
   "id": "a2e931ad-6309-43f0-b992-bc0b9310a1d8",
   "metadata": {},
   "outputs": [
    {
     "name": "stdin",
     "output_type": "stream",
     "text": [
      "grid의 size:  30\n",
      "높이 검토할 범위:  1\n"
     ]
    }
   ],
   "source": [
    "# 포인트 클라우드 제거 함수\n",
    "grid = int(input('grid의 size: '))\n",
    "range_int = int(input('높이 검토할 범위: '))\n",
    "\n",
    "new_pcd = filtering_points(downsampled_pcd, grid, range_int)\n",
    "o3d.visualization.draw_geometries([new_pcd], window_name=\"Included Point Cloud\")"
   ]
  },
  {
   "cell_type": "markdown",
   "id": "8434a13b-b951-4373-b3d6-b1b6abe22d3a",
   "metadata": {},
   "source": [
    "# 4. 포인트 클라우드 시각화"
   ]
  },
  {
   "cell_type": "code",
   "execution_count": 90,
   "id": "967da52b-ef9d-4d29-8734-a97d1260bfc0",
   "metadata": {},
   "outputs": [],
   "source": [
    "# 원본 포인트클라우드\n",
    "o3d.visualization.draw_geometries([pcd], window_name=\"Original Point Cloud\")"
   ]
  },
  {
   "cell_type": "code",
   "execution_count": 94,
   "id": "c8993051-5862-449f-aa63-5b3421a2fc2d",
   "metadata": {},
   "outputs": [],
   "source": [
    "# 수정 포인트 클라우드\n",
    "o3d.visualization.draw_geometries([new_pcd], window_name=\"Included Point Cloud\")"
   ]
  },
  {
   "cell_type": "code",
   "execution_count": 46,
   "id": "39f1956f-88c4-4c8c-84e1-c146d9aa32e7",
   "metadata": {},
   "outputs": [],
   "source": [
    "# 시각화 객체 생성\n",
    "vis = o3d.visualization.Visualizer()\n",
    "vis.create_window(window_name=\"Original Point Cloud\")\n",
    "# 점군 데이터 추가\n",
    "vis.add_geometry(pcd)\n",
    "# 렌더링 옵션 가져오기\n",
    "opt = vis.get_render_option()\n",
    "# 점의 크기 설정\n",
    "opt.point_size = 0.5  # 점 크기를 원하는 값으로 설정\n",
    "# 시각화 실행\n",
    "vis.run()\n",
    "vis.destroy_window()"
   ]
  },
  {
   "cell_type": "code",
   "execution_count": 49,
   "id": "6301e3d4-e3c9-4677-8970-3ad37393a2e6",
   "metadata": {},
   "outputs": [
    {
     "name": "stdout",
     "output_type": "stream",
     "text": [
      "[Open3D WARNING] [ViewControl] SetViewPoint() failed because window height and width are not set.\n"
     ]
    }
   ],
   "source": [
    "# 시각화 객체 생성\n",
    "vis = o3d.visualization.Visualizer()\n",
    "vis.create_window(window_name=\"Included Point Cloud\")\n",
    "# 점군 데이터 추가\n",
    "vis.add_geometry(new_pcd)\n",
    "# 렌더링 옵션 가져오기\n",
    "opt = vis.get_render_option()\n",
    "# 점의 크기 설정\n",
    "opt.point_size = 1.0  # 점 크기를 원하는 값으로 설정\n",
    "# 시각화 실행\n",
    "vis.run()\n",
    "vis.destroy_window()"
   ]
  },
  {
   "cell_type": "markdown",
   "id": "66871e4e-8c37-41bb-b607-cfa25357581c",
   "metadata": {},
   "source": [
    "# 99. test"
   ]
  },
  {
   "cell_type": "code",
   "execution_count": null,
   "id": "bf1abcf3-e47d-4934-ab69-e198517e9441",
   "metadata": {},
   "outputs": [],
   "source": [
    "# z좌표의 통계 정보 출력\n",
    "points = np.array(downsampled_pcd.points)\n",
    "z_min = np.min(points[:,2])\n",
    "z_max = np.max(points[:,2])"
   ]
  },
  {
   "cell_type": "code",
   "execution_count": null,
   "id": "69455962-3e21-4963-bff6-3fa1168a46bd",
   "metadata": {},
   "outputs": [],
   "source": [
    "# DBSCAN 클러스터링\n",
    "eps = 1.5\n",
    "min_points = 10\n",
    "labels = np.array(downsampled_pcd.cluster_dbscan(eps=eps, min_points=min_points))\n",
    "max_label = labels.max()\n",
    "print(f\"포인트 클라우드에서 {max_label + 1} 개의 클러스터가 검출됨\")"
   ]
  },
  {
   "cell_type": "code",
   "execution_count": null,
   "id": "3d8a11f7-fd0d-4c8e-9263-9d1a1e9f04b8",
   "metadata": {},
   "outputs": [],
   "source": [
    "# 각 클러스터에 색상 지정\n",
    "colors = plt.get_cmap(\"tab20\")(labels / (max_label if max_label > 0 else 1))\n",
    "colors[labels < 0] = 0  # 노이즈 포인트는 검정색으로 설정\n",
    "downsampled_pcd.colors = o3d.utility.Vector3dVector(colors[:, :3])"
   ]
  },
  {
   "cell_type": "code",
   "execution_count": null,
   "id": "c01b6d15-ff29-4012-ba6a-4f6518c81246",
   "metadata": {},
   "outputs": [],
   "source": [
    "# 클러스터링 결과 시각화\n",
    "o3d.visualization.draw_geometries([downsampled_pcd])"
   ]
  },
  {
   "cell_type": "code",
   "execution_count": null,
   "id": "9bd3a8e5-4441-4f66-905d-901f8d7014a5",
   "metadata": {},
   "outputs": [],
   "source": [
    "vis = o3d.visualization.Visualizer()\n",
    "vis.create_window()\n",
    "vis.add_geometry(pcd)\n",
    "opt = vis.get_render_option()\n",
    "opt.point_size = 0.5\n",
    "\n",
    "vis.run()\n",
    "vis.destroy_window()"
   ]
  }
 ],
 "metadata": {
  "kernelspec": {
   "display_name": "Python 3 (ipykernel)",
   "language": "python",
   "name": "python3"
  },
  "language_info": {
   "codemirror_mode": {
    "name": "ipython",
    "version": 3
   },
   "file_extension": ".py",
   "mimetype": "text/x-python",
   "name": "python",
   "nbconvert_exporter": "python",
   "pygments_lexer": "ipython3",
   "version": "3.10.11"
  }
 },
 "nbformat": 4,
 "nbformat_minor": 5
}
